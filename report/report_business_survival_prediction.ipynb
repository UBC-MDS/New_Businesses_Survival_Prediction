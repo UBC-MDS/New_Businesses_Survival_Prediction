{
 "cells": [
  {
   "cell_type": "markdown",
   "id": "d30aede9",
   "metadata": {},
   "source": [
    "# Predicting the Survival of New Businesses in Vancouver"
   ]
  },
  {
   "cell_type": "markdown",
   "id": "277eff1e-44ab-439e-b841-8f8621cf16e9",
   "metadata": {},
   "source": [
    "By Arturo Boquin, Beth Ou Yang, Prabhjit Thind & Weiran Zhao 2023/12/03"
   ]
  },
  {
   "cell_type": "code",
   "execution_count": 9,
   "id": "d307aa25-6c4f-4f95-b62c-dc3c8689cb57",
   "metadata": {
    "editable": true,
    "slideshow": {
     "slide_type": ""
    },
    "tags": [
     "hide-cell"
    ]
   },
   "outputs": [],
   "source": [
    "import pandas as pd\n",
    "from myst_nb import glue\n",
    "import pickle\n"
   ]
  },
  {
   "cell_type": "code",
   "execution_count": 10,
   "id": "eb243a0a-fc06-4eb4-a88a-1964b484bc3c",
   "metadata": {
    "editable": true,
    "slideshow": {
     "slide_type": ""
    },
    "tags": [
     "hide-cell"
    ]
   },
   "outputs": [
    {
     "data": {
      "application/papermill.record/text/plain": "0.77"
     },
     "metadata": {
      "scrapbook": {
       "mime_prefix": "application/papermill.record/",
       "name": "accuracy"
      }
     },
     "output_type": "display_data"
    },
    {
     "data": {
      "application/papermill.record/text/plain": "0.86"
     },
     "metadata": {
      "scrapbook": {
       "mime_prefix": "application/papermill.record/",
       "name": "f1"
      }
     },
     "output_type": "display_data"
    },
    {
     "data": {
      "application/papermill.record/text/html": "<style type=\"text/css\">\n</style>\n<table id=\"T_debda\">\n  <thead>\n    <tr>\n      <th id=\"T_debda_level0_col0\" class=\"col_heading level0 col0\" >Accuracy</th>\n      <th id=\"T_debda_level0_col1\" class=\"col_heading level0 col1\" >F1_Score</th>\n      <th id=\"T_debda_level0_col2\" class=\"col_heading level0 col2\" >Precision</th>\n      <th id=\"T_debda_level0_col3\" class=\"col_heading level0 col3\" >Recall</th>\n    </tr>\n  </thead>\n  <tbody>\n    <tr>\n      <td id=\"T_debda_row0_col0\" class=\"data row0 col0\" >0.770000</td>\n      <td id=\"T_debda_row0_col1\" class=\"data row0 col1\" >0.860000</td>\n      <td id=\"T_debda_row0_col2\" class=\"data row0 col2\" >0.790000</td>\n      <td id=\"T_debda_row0_col3\" class=\"data row0 col3\" >0.950000</td>\n    </tr>\n  </tbody>\n</table>\n",
      "application/papermill.record/text/plain": "<pandas.io.formats.style.Styler at 0x162fd3490>"
     },
     "metadata": {
      "scrapbook": {
       "mime_prefix": "application/papermill.record/",
       "name": "test_scores_df"
      }
     },
     "output_type": "display_data"
    }
   ],
   "source": [
    "test_scores_df = pd.read_csv(\"../results/tables/test_scores.csv\").round(2)\n",
    "glue(\"accuracy\", test_scores_df['Accuracy'].values[0], display=False)\n",
    "glue(\"f1\", test_scores_df['F1_Score'].values[0], display=False)\n",
    "test_scores_df = test_scores_df.style.format().hide()\n",
    "glue(\"test_scores_df\", test_scores_df, display=False)"
   ]
  },
  {
   "cell_type": "code",
   "execution_count": 11,
   "id": "d69b26d9-3432-413f-929b-402359b2cf7f",
   "metadata": {
    "editable": true,
    "slideshow": {
     "slide_type": ""
    },
    "tags": [
     "hide-cell"
    ]
   },
   "outputs": [
    {
     "data": {
      "application/papermill.record/text/plain": "23817"
     },
     "metadata": {
      "scrapbook": {
       "mime_prefix": "application/papermill.record/",
       "name": "total"
      }
     },
     "output_type": "display_data"
    },
    {
     "data": {
      "application/papermill.record/text/plain": "18442"
     },
     "metadata": {
      "scrapbook": {
       "mime_prefix": "application/papermill.record/",
       "name": "pred_correct"
      }
     },
     "output_type": "display_data"
    },
    {
     "data": {
      "application/papermill.record/text/plain": "862"
     },
     "metadata": {
      "scrapbook": {
       "mime_prefix": "application/papermill.record/",
       "name": "false_neg"
      }
     },
     "output_type": "display_data"
    },
    {
     "data": {
      "application/papermill.record/text/html": "<div>\n<style scoped>\n    .dataframe tbody tr th:only-of-type {\n        vertical-align: middle;\n    }\n\n    .dataframe tbody tr th {\n        vertical-align: top;\n    }\n\n    .dataframe thead th {\n        text-align: right;\n    }\n</style>\n<table border=\"1\" class=\"dataframe\">\n  <thead>\n    <tr style=\"text-align: right;\">\n      <th></th>\n      <th>Predicted: Survived</th>\n      <th>Predicted 1</th>\n    </tr>\n    <tr>\n      <th>Actual label:</th>\n      <th></th>\n      <th></th>\n    </tr>\n  </thead>\n  <tbody>\n    <tr>\n      <th>Actual 0</th>\n      <td>1516</td>\n      <td>4513</td>\n    </tr>\n    <tr>\n      <th>Actual 1</th>\n      <td>862</td>\n      <td>16926</td>\n    </tr>\n  </tbody>\n</table>\n</div>",
      "application/papermill.record/text/plain": "               Predicted: Survived  Predicted 1\nActual label:                                  \nActual 0                      1516         4513\nActual 1                       862        16926"
     },
     "metadata": {
      "scrapbook": {
       "mime_prefix": "application/papermill.record/",
       "name": "confusion_df"
      }
     },
     "output_type": "display_data"
    }
   ],
   "source": [
    "confusion_df=pd.read_csv(\"../results/tables/confusion_matrix.csv\", index_col=0)\n",
    "confusion_df.rename(columns={'Predicted 0':'Predicted: Survived'}, inplace=True)\n",
    "confusion_df.index.names = ['Actual label:']\n",
    "glue(\"total\", confusion_df.sum(axis=1).sum(), display=False)\n",
    "glue(\"pred_correct\", confusion_df['Predicted: Survived'].values[0] + confusion_df['Predicted 1'].values[1], display=False)\n",
    "glue(\"false_neg\", confusion_df['Predicted: Survived'].values[1], display=False)\n",
    "glue(\"confusion_df\", confusion_df, display=False)"
   ]
  },
  {
   "cell_type": "code",
   "execution_count": null,
   "id": "b30f5ed4-5291-4715-8639-375043d5bfa7",
   "metadata": {
    "editable": true,
    "slideshow": {
     "slide_type": ""
    },
    "tags": [
     "hide-cell"
    ]
   },
   "outputs": [],
   "source": [
    "with open('../results/models/lr_license_renewal_pipeline.pickle', 'rb') as f:\n",
    "    business_fit = pickle.load(f)"
   ]
  },
  {
   "cell_type": "markdown",
   "id": "db736cf2-9007-4064-921a-6335c1c6a23e",
   "metadata": {},
   "source": [
    "## Summary\n",
    "This study focuses on forecasting the viability of new businesses in Vancouver by analyzing a range of economic and demographic variables. We utilize data from the City business license registry (City of Vancouver, 2023) and supplementary sources such as Statistics Canada (2023) to assess the impact of factors like location, industry type, and economic conditions on the longevity of businesses.\n",
    "\n",
    "Our approach involves developing a classification model using logistic regression. This model leverages the aforementioned datasets to ascertain the likelihood of a new business sustaining operations over a two-year period. The effectiveness of our final model was substantiated through its performance on a separate test dataset, achieving an accuracy of {glue:}`accuracy`. Out of {glue:text}`total` test data cases, it accurately forecasted the survival of {glue:text}`pred_correct` businesses.\n",
    "\n",
    "Nevertheless, the model incorrectly classified {glue:text}`false_neg` cases as false negatives, erroneously indicating that certain businesses would thrive when they were actually at risk. These inaccuracies could potentially lead to detrimental outcomes, especially in scenarios involving targeted interventions for businesses. Therefore, we advocate for further research and refinement of this predictive model before its implementation as a tool for policy makers and economic authorities.\n",
    "\n",
    "## Introduction\n",
    "The business environment in Vancouver is dynamic, influenced by economic trends, demographic changes, and city planning. Accurate prediction of new business survival is essential for both policymakers and entrepreneurs. The central question of this project is: \"Can we predict the survival of new businesses in Vancouver?\" To answer this, we leveraged data from Vancouver's open data portal, supplemented with economic and census data. Analysis was conducted using Python packages including Pandas (McKinney 2010), Altair (VanderPlas, 2018), and scikit-learn (Pedregosa et al. 2011).\n",
    "\n",
    "## Methods\n",
    "### Dataset Description\n",
    "The primary dataset for this study is sourced from the City of Vancouver's business license registry, which is regularly updated with new licenses, renewals, and terminations. This dataset is enhanced with external data on economic indicators and demographic trends, providing a comprehensive view of the factors influencing business survival in the city.\n",
    "\n",
    "### Analysis\n",
    "Our methodology involved developing a logistic regression model to classify businesses as likely to survive or not over a two-year period. We employed various economic and demographic variables from our datasets in the model. The data was divided, with 70% allocated for training and 30% for testing. Model performance was evaluated using accuracy and other relevant metrics, emphasizing the importance of reducing false negatives due to the high stakes involved in business \n",
    "survival predictions.\n",
    "\n",
    "## Results & Discussion\n",
    "Initial analysis of the datasets revealed significant trends and correlations between various factors and business survival. The logistic regression model showed promising results, though the presence of false negatives warrants further investigation and model refinement. Our findings suggest that, with improved accuracy, such a model could be a valuable tool for predicting business viability, aiding decision-making for both entrepreneurs and policymakers."
   ]
  },
  {
   "cell_type": "markdown",
   "id": "1663b13b-3781-4b1c-b6de-bd5ed6a29242",
   "metadata": {},
   "source": [
    "To look at which of the features might be useful to predict the survival status, we plotted the distributions of each predictor from the dataset and coloured the distribution by class (failed to survive more than 2 yrs: green, and survived for more than 2 yrs: orange). In doing this, what we aim at is to omit features of which both the binary classes have similar patterns. In that way, it means that these features do have the power to tell the two classes apart and fit their values into each of them. As illustrated in Fig.1, Fig.2 and Fig.3 (Visualization of Frequency of Numeric Features), there exists a correlation between two classes with the numeric features."
   ]
  },
  {
   "cell_type": "markdown",
   "id": "1ce04946-1a7f-4755-ac68-81deff1b5958",
   "metadata": {
    "editable": true,
    "slideshow": {
     "slide_type": ""
    },
    "tags": []
   },
   "source": [
    "```{figure} ../results/figures/numeric_features.png\n",
    "---\n",
    "width: 800px\n",
    "name: numeric_features\n",
    "---\n",
    "Comparison of the numeric features distributions.\n",
    "```"
   ]
  },
  {
   "cell_type": "markdown",
   "id": "d2c9a9e9-befd-4658-988c-a7d28fed10c2",
   "metadata": {},
   "source": [
    "```{figure} ../results/figures/numeric_FeePaid.png\n",
    "---\n",
    "width: 800px\n",
    "name: numeric_FeePaid\n",
    "---\n",
    "Numeric feature with large variance - FeePaid-.\n",
    "```"
   ]
  },
  {
   "cell_type": "markdown",
   "id": "79fc8dfe",
   "metadata": {},
   "source": [
    "```{figure} ../results/figures/numeric_NumberofEmployees.png\n",
    "---\n",
    "width: 800px\n",
    "name: numeric_NumberofEmployees\n",
    "---\n",
    "Numeric feature with large variance - NumberofEmployees-.\n",
    "```"
   ]
  },
  {
   "cell_type": "markdown",
   "id": "0b8d4b62-ad5a-4f11-b8bb-209b36fa43dc",
   "metadata": {},
   "source": [
    "For categorical features we generated histograms to see frequency of observations of both classes. \n",
    "\n",
    "As Fig.4 and Fig.5 indicated, an underlying pattern where the two features could have an influence on the target, with the similar spread of frequencies."
   ]
  },
  {
   "cell_type": "markdown",
   "id": "972be0bc-c067-48ca-8658-51b5994bd66c",
   "metadata": {},
   "source": [
    "```{figure} ../results/figures/categorical_LocalArea.png\n",
    "---\n",
    "width: 800px\n",
    "name: categorical_LocalArea\n",
    "---\n",
    "Categorical feature Local Area.\n",
    "```"
   ]
  },
  {
   "cell_type": "markdown",
   "id": "edaa612d-daad-4c0e-aebd-aa808575efe7",
   "metadata": {},
   "source": [
    "```{figure} ../results/figures/varianced_categorical_BusinessType.png\n",
    "---\n",
    "width: 800px\n",
    "name: varianced_categorical_BusinessType\n",
    "---\n",
    "Categorical feature Buiness Type.\n",
    "```"
   ]
  },
  {
   "cell_type": "markdown",
   "id": "508eeb30-b56d-43eb-83b4-cce26db7214e",
   "metadata": {},
   "source": [
    "We have used Logistic Regression predicting business survival in Vancouver due to the nature of the data. \n",
    "Logistic Regression is effective when the outcome is binary, making it appropriate for predicting whether a business survives or not. \n",
    "Easier interpretability of the model results is another reason why we chose Logistic Regression. It's a linear model that provides coefficients for each predictor variable, making it easy to interpret the impact of each variable on the predicted outcome. This can be crucial for understanding the economic and demographic factors influencing business survival. \n",
    "\n",
    "We are using 70% of our data as training data and the remaining 30% is used as test data.\n",
    "\n",
    "Logistic Regression is performing with a test validation accuracy of {glue:}`accuracy` on whether a business will survive or not."
   ]
  },
  {
   "cell_type": "markdown",
   "id": "291a2ad8-1c53-4f4d-a331-5a3dd69bb683",
   "metadata": {},
   "source": [
    "```{glue:figure} test_scores_df\n",
    ":figwidth: 400px\n",
    ":name: \"test_scores_df\"\n",
    "\n",
    "Accuracy and F1-score from best model predicted on the test data.\n",
    "```"
   ]
  },
  {
   "cell_type": "markdown",
   "id": "1a0fa440-6c07-4d50-b99a-7f6686421366",
   "metadata": {},
   "source": [
    "Our prediction model performed quite well on test data, with a final overall accuracy of {glue:text}`accuracy` and F1-score of {glue:text}`f1`. \n",
    "\n",
    "Other indicators that our model performed well come from the confusion matrix, where it only made {glue:text}`false_neg` mistakes. However all {glue:text}`false_neg` mistakes were predicting certain businesses would thrive when they were actually at risk, given the implications this has for the economy, this model can be used as a reference for policymakers and authorities ({numref}`Figure {number} <confusion_df>`)."
   ]
  },
  {
   "cell_type": "markdown",
   "id": "b3575109-e74e-41af-abc6-66dd9a78247e",
   "metadata": {},
   "source": [
    "```{glue:figure} confusion_df\n",
    ":figwidth: 400px\n",
    ":name: \"confusion_df\"\n",
    "\n",
    "Confusion matrix from best model on the test data.\n",
    "```"
   ]
  },
  {
   "attachments": {},
   "cell_type": "markdown",
   "id": "75d11292-a12b-4168-8d0c-d76725f694ca",
   "metadata": {},
   "source": [
    "#### Improvements\n",
    "\n",
    "- The analysis conducted in this project provides significant insights into the factors influencing new business survival in Vancouver. The careful selection of predictive variables and the use of appropriate models have yielded results that not only predict business survival but also highlight critical economic and demographic factors influencing it.\n",
    "- While the models show good predictive power, further research incorporating additional data sources, advanced modeling techniques, and a deeper temporal analysis could provide even more nuanced insights.\n",
    "- The project has the potential to significantly impact policymaking and strategic planning for economic development in urban environments, demonstrating the practical applications of data science in real-world scenarios.\n"
   ]
  },
  {
   "cell_type": "markdown",
   "id": "af76c87b",
   "metadata": {},
   "source": [
    "## References"
   ]
  },
  {
   "cell_type": "markdown",
   "id": "bca95ff5",
   "metadata": {},
   "source": [
    "City of Vancouver. 2023. 'Business Licences Dataset.' Vancouver Open Data. https://opendata.vancouver.ca/explore/dataset/business-licences/information/?disjunctive.status&disjunctive.businesssubtype&refine.folderyear=23\n",
    "\n",
    "Statistics Canada. 2023. https://www150.statcan.gc.ca/n1/en/type/data?MM=1\n",
    "\n",
    "McKinney, Wes. 2010. “Data Structures for Statistical Computing in Python.” In Proceedings of the 9th Python in Science Conference, edited by Stéfan van der Walt and Jarrod Millman, 51–56.\n",
    "\n",
    "VanderPlas, J. et al., 2018. Altair: Interactive statistical visualizations for python. Journal of open source software, 3(32), p.1057.\n",
    "\n",
    "Pedregosa, F. et al., 2011. Scikit-learn: Machine learning in Python. Journal of machine learning research, 12(Oct), pp.2825–2830."
   ]
  },
  {
   "cell_type": "code",
   "execution_count": null,
   "id": "a42abf66-d2cb-4fd3-87f6-5fe39a12da2d",
   "metadata": {},
   "outputs": [],
   "source": []
  }
 ],
 "metadata": {
  "kernelspec": {
   "display_name": "Python 3 (ipykernel)",
   "language": "python",
   "name": "python3"
  },
  "language_info": {
   "codemirror_mode": {
    "name": "ipython",
    "version": 3
   },
   "file_extension": ".py",
   "mimetype": "text/x-python",
   "name": "python",
   "nbconvert_exporter": "python",
   "pygments_lexer": "ipython3",
   "version": "3.11.6"
  }
 },
 "nbformat": 4,
 "nbformat_minor": 5
}
