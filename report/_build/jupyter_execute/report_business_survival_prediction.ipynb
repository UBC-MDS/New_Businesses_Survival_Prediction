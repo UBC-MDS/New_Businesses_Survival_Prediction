{
 "cells": [
  {
   "cell_type": "markdown",
   "id": "d30aede9",
   "metadata": {},
   "source": [
    "# Predicting the Survival of New Businesses in Vancouver"
   ]
  },
  {
   "cell_type": "markdown",
   "id": "277eff1e-44ab-439e-b841-8f8621cf16e9",
   "metadata": {},
   "source": [
    "By Arturo Boquin, Beth Ou Yang, Prabhjit Thind & Weiran Zhao 2023/12/03"
   ]
  },
  {
   "cell_type": "code",
   "execution_count": 1,
   "id": "d307aa25-6c4f-4f95-b62c-dc3c8689cb57",
   "metadata": {},
   "outputs": [],
   "source": [
    "import pandas as pd\n",
    "from myst_nb import glue\n",
    "import pickle"
   ]
  },
  {
   "cell_type": "code",
   "execution_count": 2,
   "id": "eb243a0a-fc06-4eb4-a88a-1964b484bc3c",
   "metadata": {},
   "outputs": [],
   "source": [
    "test_scores_df = pd.read_csv(\"../results/tables/test_scores.csv\").round(2)\n",
    "glue(\"accuracy\", test_scores_df['Accuracy'].values[0], display=False)\n",
    "test_scores_df = test_scores_df.style.format().hide()\n",
    "glue(\"test_scores_df\", test_scores_df, display=False)"
   ]
  },
  {
   "cell_type": "code",
   "execution_count": 3,
   "id": "d69b26d9-3432-413f-929b-402359b2cf7f",
   "metadata": {},
   "outputs": [],
   "source": [
    "confusion_df=pd.read_csv(\"../results/tables/confusion_matrix.csv\", index_col=0)\n",
    "confusion_df.rename(columns={'Predicted 0':'Predicted: Survived'}, inplace=True)\n",
    "confusion_df.index.names = ['Actual label:']\n",
    "glue(\"total\", confusion_df.sum(axis=1).sum(), display=False)\n",
    "glue(\"pred_correct\", confusion_df['Predicted: Survived'].values[0] + confusion_df['Predicted 1'].values[1], display=False)\n",
    "glue(\"false_neg\", confusion_df['Predicted: Survived'].values[1], display=False)\n",
    "glue(\"confusion_df\", confusion_df, display=False)"
   ]
  },
  {
   "cell_type": "code",
   "execution_count": 4,
   "id": "b30f5ed4-5291-4715-8639-375043d5bfa7",
   "metadata": {},
   "outputs": [],
   "source": [
    "with open('../results/models/lr_license_renewal_pipeline.pickle', 'rb') as f:\n",
    "    business_fit = pickle.load(f)"
   ]
  },
  {
   "cell_type": "markdown",
   "id": "db736cf2-9007-4064-921a-6335c1c6a23e",
   "metadata": {},
   "source": [
    "## Summary\n",
    "This study focuses on forecasting the viability of new businesses in Vancouver by analyzing a range of economic and demographic variables. We utilize data from the City business license registry (City of Vancouver, 2023) and supplementary sources such as Statistics Canada (2023) to assess the impact of factors like location, industry type, and economic conditions on the longevity of businesses.\n",
    "\n",
    "Our approach involves developing a classification model using logistic regression. This model leverages the aforementioned datasets to ascertain the likelihood of a new business sustaining operations over a two-year period. The effectiveness of our final model was substantiated through its performance on a separate test dataset, achieving an accuracy of {glue:text}'accuracy'. Out of {glue:text}'total' test data cases, it accurately forecasted the survival of {glue:text}'pred_correct' businesses.\n",
    "\n",
    "Nevertheless, the model incorrectly classified {glue:text}'false_neg' cases as false negatives, erroneously indicating that certain businesses would thrive when they were actually at risk. These inaccuracies could potentially lead to detrimental outcomes, especially in scenarios involving targeted interventions for businesses. Therefore, we advocate for further research and refinement of this predictive model before its implementation as a tool for policy makers and economic authorities.\n",
    "\n",
    "## Introduction\n",
    "The business environment in Vancouver is dynamic, influenced by economic trends, demographic changes, and city planning. Accurate prediction of new business survival is essential for both policymakers and entrepreneurs. The central question of this project is: \"Can we predict the survival of new businesses in Vancouver?\" To answer this, we leveraged data from Vancouver's open data portal, supplemented with economic and census data. Analysis was conducted using Python packages including Pandas (McKinney 2010), Altair (VanderPlas, 2018), and scikit-learn (Pedregosa et al. 2011).\n",
    "\n",
    "## Methods\n",
    "### Dataset Description\n",
    "The primary dataset for this study is sourced from the City of Vancouver's business license registry, which is regularly updated with new licenses, renewals, and terminations. This dataset is enhanced with external data on economic indicators and demographic trends, providing a comprehensive view of the factors influencing business survival in the city.\n",
    "\n",
    "### Analysis\n",
    "Our methodology involved developing a logistic regression model to classify businesses as likely to survive or not over a two-year period. We employed various economic and demographic variables from our datasets in the model. The data was divided, with 70% allocated for training and 30% for testing. Model performance was evaluated using accuracy and other relevant metrics, emphasizing the importance of reducing false negatives due to the high stakes involved in business \n",
    "survival predictions.\n",
    "\n",
    "## Results & Discussion\n",
    "Initial analysis of the datasets revealed significant trends and correlations between various factors and business survival. The logistic regression model showed promising results, though the presence of false negatives warrants further investigation and model refinement. Our findings suggest that, with improved accuracy, such a model could be a valuable tool for predicting business viability, aiding decision-making for both entrepreneurs and policymakers."
   ]
  },
  {
   "cell_type": "markdown",
   "id": "86538669-b39a-4ad9-b460-5af9447e3a24",
   "metadata": {},
   "source": [
    "## EDA & Visualization"
   ]
  },
  {
   "cell_type": "markdown",
   "id": "1663b13b-3781-4b1c-b6de-bd5ed6a29242",
   "metadata": {},
   "source": [
    "Overall Target: To look at which of the features might be useful to predict the survival status, we plotted the distributions of each predictor from the dataset and coloured the distribution by class (failed to survive more than 2 yrs: green, and survived for more than 2 yrs: orange). In doing this, what we aim at is to omit features of which both the binary classes have similar patterns. In that way, it means that these features do have the power to tell the two classes apart and fit their values into each of them."
   ]
  },
  {
   "cell_type": "markdown",
   "id": "d2c9a9e9-befd-4658-988c-a7d28fed10c2",
   "metadata": {},
   "source": [
    "```{figure} ../results/figures/numeric_features.png\n",
    "---\n",
    "width: 800px\n",
    "name: numeric_features\n",
    "---\n",
    "Comparison of the numeric features distributions.\n",
    "```"
   ]
  },
  {
   "cell_type": "markdown",
   "id": "1ce04946-1a7f-4755-ac68-81deff1b5958",
   "metadata": {},
   "source": [
    "# employee & feepaid\n",
    "feepaid"
   ]
  },
  {
   "cell_type": "markdown",
   "id": "ad0fc2dc-0eab-406c-a16a-048259a6ad11",
   "metadata": {},
   "source": [
    "### Categorical Features"
   ]
  },
  {
   "cell_type": "markdown",
   "id": "0b8d4b62-ad5a-4f11-b8bb-209b36fa43dc",
   "metadata": {},
   "source": [
    "For categorical features we generated histograms to see frequency of observations of both classes. \n",
    "\n",
    "The two histograms indicate an underlying pattern where the two features could have an influence on the target, with the similar spread of frequencies."
   ]
  },
  {
   "cell_type": "markdown",
   "id": "972be0bc-c067-48ca-8658-51b5994bd66c",
   "metadata": {},
   "source": [
    "local & businesstype"
   ]
  },
  {
   "cell_type": "markdown",
   "id": "508eeb30-b56d-43eb-83b4-cce26db7214e",
   "metadata": {},
   "source": [
    "### Analysis\n",
    "\n",
    "We have used Logistic Regression and BernoulliNB for predicting business survival in Vancouver due to the nature of the data. \n",
    "\n",
    "##### Why Logistic Regression and BernoulliNB?\n",
    "Logistic Regression is effective when the outcome is binary, making it appropriate for predicting whether a business survives or not. Easier interpretability of the model results is another reason why we chose Logistic Regression. It's a linear model that provides coefficients for each predictor variable, making it easy to interpret the impact of each variable on the predicted outcome. This can be crucial for understanding the economic and demographic factors influencing business survival. \n",
    "\n",
    "BernoulliNB, a variant of Naive Bayes, accommodates binary outcomes, aligning with the nature of the task where businesses either survive or fail. It excels in handling categorical features and is effective in scenarios with sparse data, making it well-suited for the diverse and potentially sparse economic and demographic factors influencing business longevity in the city.\n",
    "\n",
    "##### Train Test Split\n",
    "We are using 70% of our data as training data and the remaining 30% is used as test data.\n",
    "\n",
    "\n",
    "##### Results\n",
    "Logistic Regression is performing better and we are getting a cross-validation accuracy of ~80% (79.2%) on whether a business will survive or not. BernoulliNB has slightly lower cross-validation accuracy of 74.6%."
   ]
  },
  {
   "cell_type": "markdown",
   "id": "83271509-e77e-4beb-8fe1-236ee819c2e5",
   "metadata": {},
   "source": [
    "\n",
    "logreg.fit(X_test_transformed, y_test)\n",
    "logreg.score(X_test_transformed, y_test)"
   ]
  },
  {
   "attachments": {},
   "cell_type": "markdown",
   "id": "75d11292-a12b-4168-8d0c-d76725f694ca",
   "metadata": {},
   "source": [
    "#### Conclusion and Improvements\n",
    "\n",
    "- The Logistic Regression model gives a decent accuracy of ~80% here and can be used as an assistive model for making decisions on whether business licence will be renewed or not. \n",
    "\n",
    "Overall Conclusion\n",
    "- The analysis conducted in this project provides significant insights into the factors influencing new business survival in Vancouver. The careful selection of predictive variables and the use of appropriate models have yielded results that not only predict business survival but also highlight critical economic and demographic factors influencing it.\n",
    "- While the models show good predictive power, further research incorporating additional data sources, advanced modeling techniques, and a deeper temporal analysis could provide even more nuanced insights.\n",
    "- The project has the potential to significantly impact policymaking and strategic planning for economic development in urban environments, demonstrating the practical applications of data science in real-world scenarios.\n",
    "\n",
    "We can further improve the model results:\n",
    "\n",
    "- Trying out more complex models like Random Forest, Neural Networks etc. (which are currently out of our MDS syllabus scope as of now).\n",
    "- By combining other economic and socio-economic factors in our dataset\n",
    "- Temporal Analysis: Incorporate time-series analysis to understand how business survival trends have evolved over time and how they correlate with broader economic cycles.\n",
    "- Feature Engineering and Selection: Further investigate the impact of different features on business survival. Advanced feature selection techniques and domain expertise can provide insights into which factors are most predictive.\n",
    "- Model Interpretability and Business Insights: Enhance model interpretability to derive actionable business insights. Techniques like SHAP (SHapley Additive exPlanations) can help in understanding how different features influence the model's predictions.\n"
   ]
  },
  {
   "cell_type": "markdown",
   "id": "af76c87b",
   "metadata": {},
   "source": [
    "## References"
   ]
  },
  {
   "cell_type": "markdown",
   "id": "bca95ff5",
   "metadata": {},
   "source": [
    "City of Vancouver. 2023. 'Business Licences Dataset.' Vancouver Open Data. https://opendata.vancouver.ca/explore/dataset/business-licences/information/?disjunctive.status&disjunctive.businesssubtype&refine.folderyear=23\n",
    "\n",
    "Statistics Canada. 2023. https://www150.statcan.gc.ca/n1/en/type/data?MM=1\n",
    "\n",
    "McKinney, Wes. 2010. “Data Structures for Statistical Computing in Python.” In Proceedings of the 9th Python in Science Conference, edited by Stéfan van der Walt and Jarrod Millman, 51–56.\n",
    "\n",
    "VanderPlas, J. et al., 2018. Altair: Interactive statistical visualizations for python. Journal of open source software, 3(32), p.1057.\n",
    "\n",
    "Pedregosa, F. et al., 2011. Scikit-learn: Machine learning in Python. Journal of machine learning research, 12(Oct), pp.2825–2830."
   ]
  }
 ],
 "metadata": {
  "kernelspec": {
   "display_name": "522_group1",
   "language": "python",
   "name": "python3"
  },
  "language_info": {
   "codemirror_mode": {
    "name": "ipython",
    "version": 3
   },
   "file_extension": ".py",
   "mimetype": "text/x-python",
   "name": "python",
   "nbconvert_exporter": "python",
   "pygments_lexer": "ipython3",
   "version": "3.11.6"
  }
 },
 "nbformat": 4,
 "nbformat_minor": 5
}