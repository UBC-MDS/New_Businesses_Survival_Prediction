{
 "cells": [
  {
   "cell_type": "markdown",
   "id": "d30aede9",
   "metadata": {},
   "source": [
    "# Predicting the Survival of New Businesses in Vancouver"
   ]
  },
  {
   "cell_type": "code",
   "execution_count": null,
   "id": "d61eb44e-11b2-4264-b0d0-4bac5c8b83cc",
   "metadata": {},
   "outputs": [],
   "source": [
    "# preprocessing\n",
    "from DataPreprocess import *\n",
    "from DataFetch import fetch_business_license, fetch_econ_indicators\n",
    "from EDA import *\n",
    "import pandas as pd\n",
    "import numpy as np\n",
    "\n",
    "# viz\n",
    "import matplotlib.pyplot as plt\n",
    "import altair as alt\n",
    "alt.data_transformers.enable(\"vegafusion\")\n",
    "\n",
    "# reduce file size\n",
    "alt.renderers.enable('svg')\n",
    "\n",
    "#sklearn tool\n",
    "from sklearn.model_selection import train_test_split\n",
    "from sklearn.compose import make_column_transformer\n",
    "from sklearn.pipeline import Pipeline, make_pipeline\n",
    "from sklearn.model_selection import cross_validate\n",
    "\n",
    "# models\n",
    "from Modeling import transform, split_x_y\n",
    "from sklearn.svm import SVC\n",
    "from sklearn.naive_bayes import GaussianNB, BernoulliNB\n",
    "from sklearn.linear_model import LogisticRegression"
   ]
  },
  {
   "cell_type": "markdown",
   "id": "db736cf2-9007-4064-921a-6335c1c6a23e",
   "metadata": {},
   "source": [
    "## Summary\n",
    "This analysis aims to predict the survival of new businesses in Vancouver by examining various economic and demographic factors. Using datasets from the City business license registry (City of Vancouver 2023) and other external sources (Statistics Canada 2023), we explore the influence of location, industry, and economic indicators on business survival.\n",
    "\n",
    "## Introduction\n",
    "Vancouver's dynamic business landscape is influenced by various factors, including economic cycles, demographic shifts, and urban planning. Predicting the survival of new businesses in this environment is crucial for policymakers and entrepreneurs alike. This project seeks to answer: \"Can the survival of a new business in Vancouver be predicted?\" We utilize datasets from Vancouver's open data portal and integrate external data such as economic indicators and census data.\n",
    "We are using the following Python packages to perform the analysis: Pandas (McKinney 2010), altair (VanderPlas, 2018), scikit-learn (Pedregosa et al. 2011).\n",
    "\n",
    "### Dataset Description\n",
    "The primary dataset comes from the City of Vancouver's business license registry, updated as businesses are licensed, renew, or terminate. This dataset is enriched with external data, including economic indicators.\n",
    "\n",
    "\n"
   ]
  },
  {
   "cell_type": "markdown",
   "id": "96bcb111-7beb-4d0b-a844-90df9ee440d0",
   "metadata": {},
   "source": [
    "## Loading dataset & Preprocessing"
   ]
  },
  {
   "cell_type": "code",
   "execution_count": null,
   "id": "b4922213-2f16-4556-84f9-34c005b408c1",
   "metadata": {},
   "outputs": [],
   "source": [
    "# Fetch data by urls --> already modulized in DataFetch.py\n",
    "business = fetch_business_license()\n",
    "raw_econ_index_data_dict = fetch_econ_indicators()"
   ]
  },
  {
   "cell_type": "markdown",
   "id": "4f83dab4-a65e-4da5-aa48-5abff6d5973e",
   "metadata": {},
   "source": [
    "### Business Lisence data\n",
    "#### Clean-up\n",
    "- Drop rows where `ExpiredDate` and `IssuedDate` are NA.\n",
    "- Transform `ExpiredDate` and `IssuedDate` to date.\n",
    "- Calculate the survival interval of each company, which is the difference between the maximum of ExpiredDate and the minimum of IssuedDate.\n",
    "- Keep only the newest issued record of each company.\n",
    "- Filter to keep those records where the latest `ExpiredDate` is before or equal to year 2022 because for those licenses issued in year 2023, the dafault `ExpiredDate` are `2023-12-31` and we cannot know whether it would survive until then.\n",
    "\n",
    "#### Response Variable for Classification: survival_status\n",
    "- Since about half of the companies in our dataset can survive over 2 years, to balance the amount of True & False, we set the threshold to 2 years "
   ]
  },
  {
   "cell_type": "code",
   "execution_count": null,
   "id": "2b55db6f-ba45-4654-9490-219ede119943",
   "metadata": {},
   "outputs": [],
   "source": [
    "# Drop rows where ExpiredDate and IssuedDate are NA\n",
    "business = business_datacleaning(business = business, survival_threshold = 365 * 2)"
   ]
  },
  {
   "cell_type": "markdown",
   "id": "afb20c7e-6cb6-45b9-a733-4442222f2bef",
   "metadata": {},
   "source": [
    "### Macroeconomics Data\n",
    "- Create a column `REF_YEAR` representing the year of `REF_DATE`\n",
    "- Keep rows where `North American Industry Classification System (NAICS) == 'All industries'`, since it is time-consuming to manually map the `BusinessType` in business license dataset to the related industries, we will merely consider the overall GDP performance in this project.\n",
    "- Keep rows where `REF_YEAR >= 2012`\n",
    "- Keep columns `REF_YEAR` and `VALUE`"
   ]
  },
  {
   "cell_type": "code",
   "execution_count": null,
   "id": "cfc2c3b8-6dae-4684-9cef-ce4716a33ec3",
   "metadata": {},
   "outputs": [],
   "source": [
    "econ = econ_datacleaning(raw_econ_index_data_dict)"
   ]
  },
  {
   "cell_type": "markdown",
   "id": "8c2d77a9-6291-4c9e-9ba4-fd66b0b47920",
   "metadata": {},
   "source": [
    "### Combine business lisence and macroeconomics data\n",
    "- Map the yearly GDP value to the first lisence issued year of each company (the year when a company starts it business)."
   ]
  },
  {
   "cell_type": "code",
   "execution_count": null,
   "id": "bf0c04d7-0c2c-4f1c-b9ec-b3eea13b93e2",
   "metadata": {},
   "outputs": [],
   "source": [
    "business_econ = merge_business_econ_by_year(business, econ)\n",
    "business_econ.head()"
   ]
  },
  {
   "cell_type": "markdown",
   "id": "86538669-b39a-4ad9-b460-5af9447e3a24",
   "metadata": {},
   "source": [
    "## EDA & Visualization"
   ]
  },
  {
   "cell_type": "markdown",
   "id": "1663b13b-3781-4b1c-b6de-bd5ed6a29242",
   "metadata": {},
   "source": [
    "Overall Target: To look at which of the features might be useful to predict the survival status, we plotted the distributions of each predictor from the dataset and coloured the distribution by class (failed to survive more than 2 yrs: green, and survived for more than 2 yrs: orange). In doing this, what we aim at is to omit features of which both the binary classes have similar patterns. In that way, it means that these features do have the power to tell the two classes apart and fit their values into each of them."
   ]
  },
  {
   "cell_type": "code",
   "execution_count": null,
   "id": "a1d70aad-1c8e-4a99-a19c-f30cec866e8e",
   "metadata": {},
   "outputs": [],
   "source": [
    "business_econ.info()"
   ]
  },
  {
   "cell_type": "code",
   "execution_count": null,
   "id": "2215aac3-2f17-4cb6-bb4e-6eebe5b82cc4",
   "metadata": {},
   "outputs": [],
   "source": [
    "business.describe(include='all')"
   ]
  },
  {
   "cell_type": "markdown",
   "id": "7637d537-6ae6-4915-9b66-f5a76dad1b09",
   "metadata": {},
   "source": [
    "### Numeric Features"
   ]
  },
  {
   "cell_type": "markdown",
   "id": "8de9a32c-7a35-4371-83ee-6efa94e71637",
   "metadata": {},
   "source": [
    "We start with numeric features. By deleting features that make no sense or have limited value to dig into, we picked 6 numeric features to implement EDA on. \n",
    "\n",
    "With the generated figures, we found out that patterns of all the numeric features of the two classes look very similar in the pattern. Thus, we choose to omit all of these from our model.\n"
   ]
  },
  {
   "cell_type": "code",
   "execution_count": null,
   "id": "d3c2fdeb-ce18-4223-b42d-2bb061491815",
   "metadata": {},
   "outputs": [],
   "source": [
    "numeric_features = ['GDPValue', 'ConsumerPriceValue', 'EmploymentValue', 'InvestmentConstructionValue'] \n",
    "# Save Numberofemployees and FeePaid for later due to their large variance\n",
    "\n",
    "numeric_feature_visualization(business_econ, numeric_features)"
   ]
  },
  {
   "cell_type": "code",
   "execution_count": null,
   "id": "d7dae9dc-3348-4c1f-8953-9d6cf6af0c72",
   "metadata": {},
   "outputs": [],
   "source": [
    "#Plot number of employees of each company\n",
    "\n",
    "large_variance_numeric_feature_visualization(business_econ, 'NumberofEmployees')"
   ]
  },
  {
   "cell_type": "code",
   "execution_count": null,
   "id": "068276f7-71b9-4667-a2af-4b2e48ecd1f0",
   "metadata": {},
   "outputs": [],
   "source": [
    "#Plot fee paid of each company\n",
    "\n",
    "large_variance_numeric_feature_visualization(business_econ, 'FeePaid')"
   ]
  },
  {
   "cell_type": "markdown",
   "id": "ad0fc2dc-0eab-406c-a16a-048259a6ad11",
   "metadata": {},
   "source": [
    "### Categorical Features"
   ]
  },
  {
   "cell_type": "markdown",
   "id": "0b8d4b62-ad5a-4f11-b8bb-209b36fa43dc",
   "metadata": {},
   "source": [
    "For categorical features we generated histograms to see frequency of observations of both classes. \n",
    "\n",
    "The two histograms indicate an underlying pattern where the two features could have an influence on the target, with the similar spread of frequencies."
   ]
  },
  {
   "cell_type": "code",
   "execution_count": null,
   "id": "6479fcab-cf86-47fe-bccf-45c7c871191a",
   "metadata": {},
   "outputs": [],
   "source": [
    "business_econ['City'].value_counts() # With significantly large proportion of data in Vancouver, we would focus our research only on Vancouver\n",
    "business_econ['Province'].value_counts() # Since most of the data are in BC Province, we would look into records in BC.\n",
    "\n",
    "categorical_features = ['LocalArea', 'BusinessType'] "
   ]
  },
  {
   "cell_type": "code",
   "execution_count": null,
   "id": "4048449c-8b98-4eb7-9964-954770c324b8",
   "metadata": {},
   "outputs": [],
   "source": [
    "#Plot frequency of company locations\n",
    "\n",
    "categorical_feature_visualization(business_econ, 'LocalArea')"
   ]
  },
  {
   "cell_type": "code",
   "execution_count": null,
   "id": "ee3ee509-5640-4af3-8582-c2312feaf6a7",
   "metadata": {},
   "outputs": [],
   "source": [
    "business_econ['BusinessType'].value_counts()"
   ]
  },
  {
   "cell_type": "code",
   "execution_count": null,
   "id": "c0d3773f-5246-43dd-8ed0-fb925afdb77f",
   "metadata": {},
   "outputs": [],
   "source": [
    "#Plot 20 most frequent types of business\n",
    "\n",
    "varianced_categorical_feature_visualization(business_econ, 'BusinessType')"
   ]
  },
  {
   "cell_type": "markdown",
   "id": "508eeb30-b56d-43eb-83b4-cce26db7214e",
   "metadata": {},
   "source": [
    "### Analysis\n",
    "\n",
    "We have used Logistic Regression and BernoulliNB for predicting business survival in Vancouver due to the nature of the data. \n",
    "\n",
    "##### Why Logistic Regression and BernoulliNB?\n",
    "Logistic Regression is effective when the outcome is binary, making it appropriate for predicting whether a business survives or not. Easier interpretability of the model results is another reason why we chose Logistic Regression. It's a linear model that provides coefficients for each predictor variable, making it easy to interpret the impact of each variable on the predicted outcome. This can be crucial for understanding the economic and demographic factors influencing business survival. \n",
    "\n",
    "BernoulliNB, a variant of Naive Bayes, accommodates binary outcomes, aligning with the nature of the task where businesses either survive or fail. It excels in handling categorical features and is effective in scenarios with sparse data, making it well-suited for the diverse and potentially sparse economic and demographic factors influencing business longevity in the city.\n",
    "\n",
    "##### Train Test Split\n",
    "We are using 70% of our data as training data and the remaining 30% is used as test data.\n",
    "\n",
    "\n",
    "##### Results\n",
    "Logistic Regression is performing better and we are getting a cross-validation accuracy of ~80% (79.2%) on whether a business will survive or not. BernoulliNB has slightly lower cross-validation accuracy of 74.6%."
   ]
  },
  {
   "cell_type": "code",
   "execution_count": null,
   "id": "273a66c2-1dfe-49f7-a999-e3d7477ffa45",
   "metadata": {},
   "outputs": [],
   "source": [
    "# As the EDA part shows, with significantly large proportion of data in Vancouver, we would focus our research only on Vancouver\n",
    "business = business[business['City'] == 'Vancouver']\n",
    "business_econ = merge_business_econ_by_year(business, econ)\n",
    "business_econ.head()"
   ]
  },
  {
   "cell_type": "code",
   "execution_count": null,
   "id": "480c2272-54f3-4d8e-be92-3852da6c4766",
   "metadata": {},
   "outputs": [],
   "source": [
    "train_df, test_df = train_test_split(business_econ, test_size=0.3, random_state=123)\n",
    "\n",
    "features = {\n",
    "    'word_features': ['BusinessType'],\n",
    "    'categorical_features': ['City', 'LocalArea'],\n",
    "    'numeric_features': ['NumberofEmployees', 'FeePaid', \n",
    "                        'GDPValue', 'ConsumerPriceValue', 'EmploymentValue', 'InvestmentConstructionValue']\n",
    "}\n",
    "\n",
    "X_train, y_train = split_x_y(train_df, **features)\n",
    "X_test, y_test = split_x_y(test_df, **features)\n",
    "\n",
    "X_train_transformed = transform(X_train, **features)\n",
    "X_test_transformed = transform(X_test, **features)"
   ]
  },
  {
   "cell_type": "code",
   "execution_count": null,
   "id": "09efd32e-f5c0-44be-a954-5db38873faa5",
   "metadata": {},
   "outputs": [],
   "source": [
    "bnb = BernoulliNB()\n",
    "pd.DataFrame(cross_validate(bnb, X_train_transformed, y_train, cv=10, return_train_score=True))"
   ]
  },
  {
   "cell_type": "code",
   "execution_count": null,
   "id": "a988cb6b-bea5-4086-8ffb-7709a05c853d",
   "metadata": {},
   "outputs": [],
   "source": [
    "logreg = LogisticRegression(random_state=123, max_iter=1000)\n",
    "pd.DataFrame(cross_validate(logreg, X_train_transformed, y_train, cv=10, return_train_score=True))"
   ]
  },
  {
   "cell_type": "code",
   "execution_count": null,
   "id": "d77fa66b",
   "metadata": {},
   "outputs": [],
   "source": [
    "\n",
    "logreg.fit(X_test_transformed, y_test)\n",
    "logreg.score(X_test_transformed, y_test)"
   ]
  },
  {
   "cell_type": "markdown",
   "id": "75d11292-a12b-4168-8d0c-d76725f694ca",
   "metadata": {},
   "source": [
    "#### Conclusion and Improvements\n",
    "\n",
    "The Logistic Regression model gives a decent accuracy of ~80% here and can be used as an assistive model for making decisions on whether business licence will be renewed or not. \n",
    "\n",
    "We can further improve the model results:\n",
    "\n",
    "- Trying out more complex models like Random Forest, Neural Networks etc. (which are currently out of our MDS syllabus scope as of now).\n",
    "- By combining other economic and socio-economic factors in our dataset"
   ]
  },
  {
   "cell_type": "markdown",
   "id": "af76c87b",
   "metadata": {},
   "source": [
    "## References"
   ]
  },
  {
   "cell_type": "markdown",
   "id": "bca95ff5",
   "metadata": {},
   "source": [
    "City of Vancouver. 2023. 'Business Licences Dataset.' Vancouver Open Data. https://opendata.vancouver.ca/explore/dataset/business-licences/information/?disjunctive.status&disjunctive.businesssubtype&refine.folderyear=23\n",
    "\n",
    "Statistics Canada. 2023. https://www150.statcan.gc.ca/n1/en/type/data?MM=1\n",
    "\n",
    "McKinney, Wes. 2010. “Data Structures for Statistical Computing in Python.” In Proceedings of the 9th Python in Science Conference, edited by Stéfan van der Walt and Jarrod Millman, 51–56.\n",
    "\n",
    "VanderPlas, J. et al., 2018. Altair: Interactive statistical visualizations for python. Journal of open source software, 3(32), p.1057.\n",
    "\n",
    "Pedregosa, F. et al., 2011. Scikit-learn: Machine learning in Python. Journal of machine learning research, 12(Oct), pp.2825–2830."
   ]
  }
 ],
 "metadata": {
  "kernelspec": {
   "display_name": "522_group1",
   "language": "python",
   "name": "python3"
  },
  "language_info": {
   "codemirror_mode": {
    "name": "ipython",
    "version": 3
   },
   "file_extension": ".py",
   "mimetype": "text/x-python",
   "name": "python",
   "nbconvert_exporter": "python",
   "pygments_lexer": "ipython3",
   "version": "3.12.0"
  }
 },
 "nbformat": 4,
 "nbformat_minor": 5
}
