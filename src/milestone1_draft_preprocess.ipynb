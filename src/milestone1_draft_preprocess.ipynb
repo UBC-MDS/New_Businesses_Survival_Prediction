{
 "cells": [
  {
   "cell_type": "markdown",
   "metadata": {},
   "source": [
    "## Import packages"
   ]
  },
  {
   "cell_type": "code",
   "execution_count": 1,
   "metadata": {},
   "outputs": [],
   "source": [
    "# preprocessing\n",
    "from DataPreprocess import *\n",
    "from DataFetch import fetch_business_license, fetch_econ_indicators\n",
    "\n",
    "# viz\n",
    "import altair as alt\n",
    "alt.data_transformers.enable(\"vegafusion\")\n",
    "import matplotlib.pyplot as plt"
   ]
  },
  {
   "cell_type": "markdown",
   "metadata": {},
   "source": [
    "## Loading dataset"
   ]
  },
  {
   "cell_type": "code",
   "execution_count": null,
   "metadata": {},
   "outputs": [
    {
     "name": "stdout",
     "output_type": "stream",
     "text": [
      "Now loading: business_license data\n",
      "Now loading: GDP data\n",
      "Now loading: ConsumerPrice data\n",
      "Now loading: Employment data\n",
      "Now loading: InvestmentConstruction data\n"
     ]
    }
   ],
   "source": [
    "# Fetch data by urls --> already modulized\n",
    "business = fetch_business_license()\n",
    "raw_econ_index_data_dict = fetch_econ_indicators()\n",
    "\n",
    "# It takes a while to load data from the url, so... here's the shortcut!\n",
    "# Just download the file above to your local machine, and put the file in the data folder\n",
    "business = pd.read_csv('../data/business-licences.csv', delimiter = ';')\n",
    "\n",
    "raw_econ_index_data_dict = {\n",
    "    'GDP': pd.read_csv('../data/gdp_by_industry.csv'),\n",
    "    'ConsumerPrice': pd.read_csv('../data/consumer_price_index.csv'),\n",
    "    'Employment': pd.read_csv('../data/employment_by_industry.csv'),\n",
    "    'InvestmentConstruction': pd.read_csv('../data/investment_in_building_construction.csv')\n",
    "}"
   ]
  },
  {
   "cell_type": "markdown",
   "metadata": {},
   "source": [
    "## Preprocessing"
   ]
  },
  {
   "cell_type": "markdown",
   "metadata": {},
   "source": [
    "### Business Lisence data\n",
    "#### Clean-up\n",
    "- Drop rows where `ExpiredDate` and `IssuedDate` are NA.\n",
    "- Transform `ExpiredDate` and `IssuedDate` to date.\n",
    "- Calculate the survival interval of each company, which is the difference between the maximum of ExpiredDate and the minimum of IssuedDate.\n",
    "- Keep only the newest issued record of each company.\n",
    "- Filter to keep those records where the latest `ExpiredDate` is before or equal to year 2022 because for those licenses issued in year 2023, the dafault `ExpiredDate` are `2023-12-31` and we cannot know whether it would survive until then.\n",
    "\n",
    "#### Response Variable for Classification: survival_status\n",
    "- To balance the amount of True & False, set the threshold to 2 years \n",
    "- Adjust Boolean value to 0, 1"
   ]
  },
  {
   "cell_type": "code",
   "execution_count": null,
   "metadata": {},
   "outputs": [],
   "source": [
    "# Drop rows where ExpiredDate and IssuedDate are NA\n",
    "business = business_datacleaning(business = business, survival_threshold = 365 * 2)\n",
    "business"
   ]
  },
  {
   "cell_type": "markdown",
   "metadata": {},
   "source": [
    "### Macroeconomics Data\n",
    "- Create a column `REF_YEAR` representing the year of `REF_DATE`\n",
    "- Keep rows where `North American Industry Classification System (NAICS) == 'All industries'`, since it is time-consuming to manually map the `BusinessType` in business license dataset to the related industries, we will merely consider the overall GDP performance in this project.\n",
    "- Keep rows where `REF_YEAR >= 2012`\n",
    "- Keep columns `REF_YEAR` and `VALUE`"
   ]
  },
  {
   "cell_type": "code",
   "execution_count": null,
   "metadata": {},
   "outputs": [],
   "source": [
    "econ = econ_datacleaning(raw_econ_index_data_dict)\n",
    "econ"
   ]
  },
  {
   "cell_type": "markdown",
   "metadata": {},
   "source": [
    "### Combine business lisence and macroeconomics data\n",
    "- Map the yearly GDP value to the first lisence issued year of each company (the year when a company starts it business)."
   ]
  },
  {
   "cell_type": "code",
   "execution_count": null,
   "metadata": {},
   "outputs": [],
   "source": [
    "business_econ = merge_business_econ_by_year(business, econ)"
   ]
  },
  {
   "cell_type": "code",
   "execution_count": null,
   "metadata": {},
   "outputs": [],
   "source": [
    "business_econ"
   ]
  },
  {
   "cell_type": "code",
   "execution_count": null,
   "metadata": {},
   "outputs": [],
   "source": []
  }
 ],
 "metadata": {
  "kernelspec": {
   "display_name": "Python [conda env:522_group1]",
   "language": "python",
   "name": "conda-env-522_group1-py"
  },
  "language_info": {
   "codemirror_mode": {
    "name": "ipython",
    "version": 3
   },
   "file_extension": ".py",
   "mimetype": "text/x-python",
   "name": "python",
   "nbconvert_exporter": "python",
   "pygments_lexer": "ipython3",
   "version": "3.11.6"
  }
 },
 "nbformat": 4,
 "nbformat_minor": 4
}
