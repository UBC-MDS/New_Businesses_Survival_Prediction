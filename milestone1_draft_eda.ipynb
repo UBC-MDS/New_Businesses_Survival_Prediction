{
 "cells": [
  {
   "cell_type": "markdown",
   "metadata": {},
   "source": [
    "## Import packages"
   ]
  },
  {
   "cell_type": "code",
   "execution_count": null,
   "metadata": {},
   "outputs": [],
   "source": [
    "# preprocessing\n",
    "from DataPreprocess import *\n",
    "from DataFetch import fetch_business_license, fetch_econ_indicators\n",
    "\n",
    "# viz\n",
    "import altair as alt\n",
    "alt.data_transformers.enable(\"vegafusion\")\n",
    "import matplotlib.pyplot as plt"
   ]
  },
  {
   "cell_type": "markdown",
   "metadata": {},
   "source": [
    "## Loading dataset"
   ]
  },
  {
   "cell_type": "code",
   "execution_count": null,
   "metadata": {},
   "outputs": [],
   "source": [
    "# Fetch data by urls --> already modulized\n",
    "# business = fetch_business_license()\n",
    "# raw_econ_index_data_dict = fetch_econ_indicators()\n",
    "\n",
    "# It takes a while to load data from the url, so... here's the shortcut!\n",
    "# Just download the file above to your local machine, and put the file in the data folder\n",
    "business = pd.read_csv('data/business-licences.csv', delimiter = ';')\n",
    "\n",
    "raw_econ_index_data_dict = {\n",
    "    'GDP': pd.read_csv('data/gdp_by_industry.csv'),\n",
    "    'ConsumerPrice': pd.read_csv('data/consumer_price_index.csv'),\n",
    "    'Employment': pd.read_csv('data/employment_by_industry.csv'),\n",
    "    'InvestmentConstruction': pd.read_csv('data/investment_in_building_construction.csv')\n",
    "}"
   ]
  },
  {
   "cell_type": "markdown",
   "metadata": {},
   "source": [
    "## Preprocessing"
   ]
  },
  {
   "cell_type": "code",
   "execution_count": null,
   "metadata": {},
   "outputs": [],
   "source": [
    "# Drop rows where ExpiredDate and IssuedDate are NA\n",
    "business = business_datacleaning(business = business, survival_threshold = 365 * 2)\n",
    "business"
   ]
  },
  {
   "cell_type": "code",
   "execution_count": null,
   "metadata": {},
   "outputs": [],
   "source": [
    "econ = econ_datacleaning(raw_econ_index_data_dict)\n",
    "econ"
   ]
  },
  {
   "cell_type": "code",
   "execution_count": null,
   "metadata": {},
   "outputs": [],
   "source": [
    "business_econ = merge_business_econ_by_year(business, econ)"
   ]
  },
  {
   "cell_type": "code",
   "execution_count": null,
   "metadata": {},
   "outputs": [],
   "source": [
    "business_econ.columns"
   ]
  },
  {
   "cell_type": "markdown",
   "metadata": {},
   "source": [
    "## EDA & Visualization"
   ]
  },
  {
   "cell_type": "code",
   "execution_count": null,
   "metadata": {},
   "outputs": [],
   "source": [
    "business_econ.info()"
   ]
  },
  {
   "cell_type": "code",
   "execution_count": null,
   "metadata": {},
   "outputs": [],
   "source": [
    "business.describe(include='all')"
   ]
  },
  {
   "cell_type": "markdown",
   "metadata": {},
   "source": [
    "### Numeric Features"
   ]
  },
  {
   "cell_type": "code",
   "execution_count": null,
   "metadata": {},
   "outputs": [],
   "source": [
    "numeric_features = ['GDPValue', 'ConsumerPriceValue', 'EmploymentValue', 'InvestmentConstructionValue'] \n",
    "# Save Numberofemployees and FeePaid for later due to their large variance"
   ]
  },
  {
   "cell_type": "code",
   "execution_count": null,
   "metadata": {},
   "outputs": [],
   "source": [
    "# Create a chart object for each feature.\n",
    "charts_numeric = [alt.Chart(business_econ).transform_density(\n",
    "    feature,\n",
    "    as_=[feature, 'density'],\n",
    "    groupby=['survival_status']\n",
    ").mark_area(opacity=0.5).encode(\n",
    "    x=alt.X(feature, title=feature).stack(False),\n",
    "    y='density:Q',\n",
    "    color=alt.Color('survival_status:O').scale(scheme='dark2')\n",
    ").properties(\n",
    "    width=180,\n",
    "    height=120\n",
    ") for feature in numeric_features]\n",
    "\n",
    "\n",
    "# Combine the charts.\n",
    "chart_grid = alt.vconcat(*[\n",
    "    alt.hconcat(*charts_numeric[i:i+2]) for i in range(0, len(charts_numeric), 2)\n",
    "])"
   ]
  },
  {
   "cell_type": "code",
   "execution_count": null,
   "metadata": {},
   "outputs": [],
   "source": [
    "employee = alt.Chart(business_econ).transform_density(\n",
    "    'NumberofEmployees',\n",
    "    as_=['NumberofEmployees', 'density'],\n",
    "    groupby=['survival_status']\n",
    ").mark_area(opacity=0.5).encode(\n",
    "    x=alt.X('NumberofEmployees', title='NumberofEmployees', scale=alt.Scale(domain=[0, 5000])).stack(False),\n",
    "    y='density:Q',\n",
    "    color=alt.Color('survival_status:O').scale(scheme='dark2')\n",
    ").properties(\n",
    "    width=180,\n",
    "    height=120\n",
    ")"
   ]
  },
  {
   "cell_type": "code",
   "execution_count": null,
   "metadata": {},
   "outputs": [],
   "source": [
    "feepaid = alt.Chart(business_econ).transform_density(\n",
    "    'FeePaid',\n",
    "    as_=['FeePaid', 'density'],\n",
    "    groupby=['survival_status']\n",
    ").mark_area(opacity=0.5).encode(\n",
    "    x=alt.X('FeePaid', title='FeePaid', scale=alt.Scale(domain=[0, 5000])).stack(False),\n",
    "    y='density:Q',\n",
    "    color=alt.Color('survival_status:O').scale(scheme='dark2')\n",
    ").properties(\n",
    "    width=180,\n",
    "    height=120\n",
    ")\n"
   ]
  },
  {
   "cell_type": "code",
   "execution_count": null,
   "metadata": {},
   "outputs": [],
   "source": [
    "chart_grid"
   ]
  },
  {
   "cell_type": "code",
   "execution_count": null,
   "metadata": {},
   "outputs": [],
   "source": [
    "employee & feepaid"
   ]
  },
  {
   "cell_type": "markdown",
   "metadata": {},
   "source": [
    "### Caregorical Features"
   ]
  },
  {
   "cell_type": "code",
   "execution_count": null,
   "metadata": {},
   "outputs": [],
   "source": [
    "categorical_features = ['Province', 'LocalArea', 'BusinessType'] "
   ]
  },
  {
   "cell_type": "code",
   "execution_count": null,
   "metadata": {},
   "outputs": [],
   "source": [
    "alt.Chart(business_econ).mark_bar(opacity=0.5).encode(\n",
    "    alt.X('LocalArea', sort='-y').stack(False),\n",
    "    y='count()',\n",
    "    color=alt.Color('survival_status:O').scale(scheme='dark2')\n",
    ").facet(\n",
    "    'survival_status:O', columns = 2\n",
    ")"
   ]
  },
  {
   "cell_type": "code",
   "execution_count": null,
   "metadata": {},
   "outputs": [],
   "source": [
    "business_econ['Province'].value_counts() # Since BC contains most of the data, we first look into records in BC Province"
   ]
  },
  {
   "cell_type": "code",
   "execution_count": null,
   "metadata": {},
   "outputs": [],
   "source": [
    "alt.Chart(business_econ).transform_filter(\n",
    "    alt.datum.Province == 'BC'\n",
    ").mark_bar(opacity=0.5).encode(\n",
    "    x='Province:N',\n",
    "    y='count()',\n",
    "    color=alt.Color('survival_status:O', scale=alt.Scale(scheme='dark2'))\n",
    ").facet(\n",
    "    column='survival_status:O',\n",
    "    columns=2\n",
    ")"
   ]
  },
  {
   "cell_type": "code",
   "execution_count": null,
   "metadata": {},
   "outputs": [],
   "source": [
    "business_econ['BusinessType'].value_counts()"
   ]
  },
  {
   "cell_type": "code",
   "execution_count": null,
   "metadata": {},
   "outputs": [],
   "source": [
    "top_20_provinces = business_econ['BusinessType'].value_counts().head(20).index.tolist()\n",
    "\n",
    "# Filter to include only the top 20 business types\n",
    "filtered = business_econ[business_econ['BusinessType'].isin(top_20_provinces)]\n",
    "\n",
    "alt.Chart(filtered).mark_bar(opacity=0.5).encode(\n",
    "    x=alt.X('BusinessType:N', sort='-y'),\n",
    "    y='count()',\n",
    "    color=alt.Color('survival_status:O', scale=alt.Scale(scheme='dark2'))\n",
    ").facet(\n",
    "    column='survival_status:O',\n",
    "    columns=2\n",
    ")"
   ]
  }
 ],
 "metadata": {
  "kernelspec": {
   "display_name": "Python 3",
   "language": "python",
   "name": "python3"
  },
  "language_info": {
   "codemirror_mode": {
    "name": "ipython",
    "version": 3
   },
   "file_extension": ".py",
   "mimetype": "text/x-python",
   "name": "python",
   "nbconvert_exporter": "python",
   "pygments_lexer": "ipython3",
   "version": "3.12.0"
  },
  "orig_nbformat": 4
 },
 "nbformat": 4,
 "nbformat_minor": 2
}
